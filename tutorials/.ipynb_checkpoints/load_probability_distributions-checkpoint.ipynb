{
 "cells": [
  {
   "cell_type": "markdown",
   "metadata": {},
   "source": [
    "### Creating superposition states associated with discretized probability distributions\n",
    "\n",
    "#### Prerequisites\n",
    "Here are a few things you should be up to speed on before we start:\n",
    " - [Python fundamentals](https://qiskit.org/textbook/ch-prerequisites/python-and-jupyter-notebooks.html)\n",
    " - [Programming quantum computers using Qiskit](https://qiskit.org/textbook/ch-prerequisites/qiskit.html)\n",
    " - [Single qubit gates](https://qiskit.org/textbook/ch-states/single-qubit-gates.html)\n",
    "\n",
    "Additiona resources can be found [here](https://github.com/QForestCommunity/launchpad/blob/master/README.md).\n",
    "\n",
    "#### Dependencies\n",
    "\n",
    "We also need a couple of Python packages to build our distribution encoder:\n",
    "\n",
    " - [Qiskit](https://qiskit.org/)\n",
    " - [Numpy](https://numpy.org/)\n",
    " - [SciPy](https://www.scipy.org/)\n",
    " - [Matplotlib](https://matplotlib.org/)\n",
    " \n",
    "#### Contributors\n",
    "\n",
    "[Sashwat Anagolum](https://github.com/SashwatAnagolum)\n",
    "\n",
    "#### Qiskit Package Versions"
   ]
  },
  {
   "cell_type": "code",
   "execution_count": 1,
   "metadata": {},
   "outputs": [
    {
     "data": {
      "text/plain": [
       "{'qiskit-terra': '0.14.1',\n",
       " 'qiskit-aer': '0.5.1',\n",
       " 'qiskit-ignis': '0.3.0',\n",
       " 'qiskit-ibmq-provider': '0.7.0',\n",
       " 'qiskit-aqua': '0.7.0',\n",
       " 'qiskit': '0.19.1'}"
      ]
     },
     "execution_count": 1,
     "metadata": {},
     "output_type": "execute_result"
    }
   ],
   "source": [
    "import qiskit\n",
    "qiskit.__qiskit_version__"
   ]
  },
  {
   "cell_type": "markdown",
   "metadata": {},
   "source": [
    "#### Introduction\n",
    "\n",
    "Given a probability distribution $p$, we want to create a quantum state $|\\psi\\rangle$ such that\n",
    "\n",
    "$$|\\psi\\rangle = \\sum_{i} \\sqrt{p_i} |i\\rangle$$\n",
    "where $|i\\rangle$ represents one of an orthonormal set of states.\n",
    "\n",
    "While we don't known when (for what kinds of distributions) we can do this, we do know that if you can efficiently integrate over a distribution classically, then we can efficiently construct a quantum state associated with a discretized version of that distribution.\n",
    "\n",
    "It may seem kind of trivial - we can integrate over the distribution classicaly, so why not just create the mixed state shown here?\n",
    "$$\\sum_i p_i |i\\rangle \\langle i |$$\n",
    "\n",
    "If all we needed to do was sample from the distribution, we could use this state - but then if we were efficiently integrating the distribution classicaly, say using Monte Carlo methods, we might as well sample from the classical distribution as well.\n",
    "\n",
    "The reason we avoid generating the distribution as a mixed quantum state is that we often need to perfom further, uniquely quantum, processing on it after creation - in this case, we cannot use the mixed state apporach.\n",
    "\n",
    "#### Encoding the distribution\n",
    "\n",
    "If we wanted to create a $N$ region discretization, we would need $n = log N$ qubits to represent the distribution. Let's look at a super simple case to start off: $N = 2$, so $n = 1$.\n",
    "\n",
    "We have probabilities $p_{0}^{(1)}$ and $p_1^{(1)}$, of a random variable following the distribution lying in region $0$ and region $1$, respectively, with $p^{(i)}_{j}$ representing the probability of measuring a random variable in region $j$ if it follows the discretized distribution over $i$ qubits.\n",
    "\n",
    "Since we only use one qubit, all we need to do is integrate over region $0$ to find the probability of a variable lying within it. Let's take a quick look at the Bloch sphere:\n",
    "\n",
    "![Bloch Sphere](./img/load_probability_distributions/bloch.png)\n",
    "\n",
    "If a qubit is rotated about the y-axis by angle $\\theta$, then the probability of measuring it as zero is given by $\\cos (\\frac{\\theta}{2})^2$ - so we can figure out how much to rotate a qubit by if we're using it to encode a distribution:\n",
    "\n",
    "$$ \\theta = 2 * \\cos^{-1} \\left ( \\sqrt{p_{0}^{(1)}}\\right )$$\n",
    "\n",
    "$$p_{0}^{(1)} = \\int_{x^{(1)}_{0}}^{x_{1}^{(1)}}p(x) dx$$\n",
    "\n",
    "Where $x^{(1)}_{0}$ and $x_{1}^{(1)}$ are the first and second region boundaries when 1 qubit is used. This leaves us with\n",
    "\n",
    "$$|\\psi \\rangle = \\sqrt{p_{0}^{(1)}} |0\\rangle + \\sqrt{p_{1}^{(1)}} |1\\rangle$$\n",
    "    \n",
    "Awesome!\n",
    "\n",
    "Now that we know how to do it for distributions with two regions, let's see if we can expand it to include more regions - i.e., can we convert a quantum state encoding a $N$ region discretization into one encoding a discretization with $2N$ regions?\n",
    "\n",
    "To get started, let's avoid all the complicated integration stuff we'll need to do later by defining a function $f(i, n)$ such that\n",
    "\n",
    "$$f(i, n) = \\frac{\\int_{x_{k}^{(n + 1)}}^{x_{k + 1}^{(n + 1)}} p(x) dx}{\\int^{x_{i + 1}^{(n)}}_{x_{i}^{(n)}} p(x) dx}$$\n",
    "\n",
    "Where $k = 2 * \\left ( \\frac{i}{2} - \\frac{i \\% 2}{2} \\right )$. The equation above probably looks a little hopeless, but all it does it computes the conditional probability of a value lying in the left subregion of region $i$ (when we have $N$ regions), given that it lies in region $i$. \n",
    "\n",
    "Why do we need this?\n",
    "\n",
    "We're assuming that dividing the distribution into $N$ regions is just an intermediary step in the process of dividing it into the desired $2^{m}$ regions - so $x_{k}^{(n + 1)}$ refers to the same boundary that $x_{i}^{(n)}$ does.\n",
    "\n",
    "Now that we've defined $f(i, n)$, all we need to do to figure out how much to rotate the $(n + 1)^{th}$ qubit is compute\n",
    "\n",
    "$$\\theta_{i}^{(n + 1)} = 2 * \\cos^{-1} \\left ( \\sqrt{f(i, n)}\\right )$$\n",
    "\n",
    "Now all we need to do is rotate the $(n + 1)^{th}$ qubit by $\\theta_{i}^{(n + 1)}$ conditioned on the state $|i\\rangle$ represented using $n$ qubits:\n",
    "\n",
    "$$\\sqrt{p_{i}^{(n)}}|i\\rangle \\rightarrow \\sqrt{p^{(n + 1)}_{k}}|k\\rangle + \\sqrt{p^{(n + 1)}_{k + 1}}|k+1\\rangle$$\n",
    "\n",
    "Since we showed that constructing a state for $n = 1$ was possible, and given a $2^n$ region discretization, we could convert into a distribution with $2^{(n + 1)}$ regions, we just inductively proved that we can construct a superposition state corresponding to a $2^n, n \\in \\mathbb{N}$ region discretized distribution - pretty cool!\n",
    "\n",
    "Now that we've gotten the concepts down, let's move on to building our own quantum distribution encoder.\n",
    "\n",
    "#### Required modules"
   ]
  },
  {
   "cell_type": "code",
   "execution_count": 2,
   "metadata": {},
   "outputs": [],
   "source": [
    "from qiskit import QuantumRegister, ClassicalRegister\n",
    "from qiskit import Aer, execute, QuantumCircuit\n",
    "from qiskit.circuit.library.standard_gates import RYGate\n",
    "from numpy import pi, e, sqrt, arccos, log2\n",
    "from scipy.integrate import quad\n",
    "%matplotlib inline\n",
    "import matplotlib.pyplot as plt"
   ]
  },
  {
   "cell_type": "markdown",
   "metadata": {},
   "source": [
    "Let's define a function representing our distribution, so that we can change super quickly whenever we want to. We'll start off with a super simple function, like $N(0, 2)$:"
   ]
  },
  {
   "cell_type": "code",
   "execution_count": 3,
   "metadata": {},
   "outputs": [],
   "source": [
    "def distribution(x):\n",
    "    \"\"\"\n",
    "    Returns the value of a chosen probability distribution at the given value\n",
    "    of x. Mess around with this function to see how the encoder works!\n",
    "\n",
    "    The current distribution being used is N(0, 2).\n",
    "    \"\"\"\n",
    "    # Use these with normal distributions\n",
    "    mu = 0\n",
    "    sigma = 2\n",
    "    return (((e ** (-0.5 * ((x - mu) / sigma) ** 2)) / (sigma * sqrt(2 * pi))) / 0.99993665)"
   ]
  },
  {
   "cell_type": "markdown",
   "metadata": {},
   "source": [
    "The 0.99993665 is a normalisation factor used to make sure the sum of probabilities over the regions we've chosen adds up to 1.\n",
    "\n",
    "Next, let's create everything else we need to compute $f(i, n)$:"
   ]
  },
  {
   "cell_type": "code",
   "execution_count": 4,
   "metadata": {},
   "outputs": [],
   "source": [
    "def integrate(dist, lower, upper):\n",
    "    \"\"\"\n",
    "    Perform integration using numpy's quad method. We can use parametrized\n",
    "    distributions as well by using this syntax instead:\n",
    "    quad(integrand, lower, upper, args=(tupleOfArgsForIntegrand))\n",
    "    \"\"\"\n",
    "    return quad(dist, lower, upper)[0]"
   ]
  },
  {
   "cell_type": "code",
   "execution_count": 5,
   "metadata": {},
   "outputs": [],
   "source": [
    "def computeRegionProbability(dist, regBounds, numRegions, j):\n",
    "    \"\"\"\n",
    "    Given a distribution dist, a list of adjacent regions regBounds, the\n",
    "    current level of discretization numRegions, a region number j, computes\n",
    "    the probability that the value random variable following dist lies in\n",
    "    region j given that it lies in the larger region made up of regions\n",
    "    [(j // 2) * 2, ((j + 2) // 2) * 2]\n",
    "    \"\"\"\n",
    "    totalRegions = len(regBounds) - 1\n",
    "    k = 2 * j\n",
    "\n",
    "    prob = integrate(dist, regBounds[(totalRegions // numRegions) * k],\n",
    "        regBounds[(totalRegions // numRegions) * (k + 1)]) / integrate(\n",
    "        dist, regBounds[(totalRegions // numRegions) * ((k // 2) * 2)],\n",
    "        regBounds[(totalRegions // numRegions) * (((k + 2) // 2) * 2)])\n",
    "\n",
    "    return prob"
   ]
  },
  {
   "cell_type": "markdown",
   "metadata": {},
   "source": [
    "$computeRegionProbability$ gives us the value of $f(i, n)$. We're finally ready to start writing the quantum part of our program - let's start by creating the registers and circuit we need:"
   ]
  },
  {
   "cell_type": "code",
   "execution_count": null,
   "metadata": {},
   "outputs": [],
   "source": [
    "def encodeDist(dist, regBounds):\n",
    "    numQubits = int(log2(len(regBounds) - 1))\n",
    "\n",
    "    a = QuantumRegister(2 * numQubits - 2)\n",
    "    c = ClassicalRegister(numQubits)\n",
    "    qc = QuantumCircuit(a, c)"
   ]
  },
  {
   "cell_type": "markdown",
   "metadata": {},
   "source": [
    "Now we can create the looping construct we need to be able to iteratively divide the distribution into $2^m$ regions, starting from $n = 1$ ($2$ regions), and dividing until $n = log N$ ($N$ regions). We need to loop over the different regions in the current , and compute the value of $f(i, n)$ for each one:"
   ]
  },
  {
   "cell_type": "code",
   "execution_count": null,
   "metadata": {},
   "outputs": [],
   "source": [
    "    for i in range(numQubits):\n",
    "        numRegions = int(2 ** (i + 1))\n",
    "\n",
    "        for j in range(numRegions // 2):\n",
    "            prob = computeRegionProbability(dist, regBounds, numRegions, j)"
   ]
  },
  {
   "cell_type": "markdown",
   "metadata": {},
   "source": [
    "Now we need to apply the controlled rotations - but we also need to write in a special case for $n = 1$, because there are no qubits to condition the rotation on:"
   ]
  },
  {
   "cell_type": "code",
   "execution_count": null,
   "metadata": {},
   "outputs": [],
   "source": [
    "            if not i:\n",
    "                qc.ry(2 * arccos(sqrt(prob)), a[2 * numQubits - 3])"
   ]
  },
  {
   "cell_type": "markdown",
   "metadata": {},
   "source": [
    "Since we'll be using gates with an arbitrary number of control qubits, we use the ControlledGate:"
   ]
  },
  {
   "cell_type": "code",
   "execution_count": null,
   "metadata": {},
   "outputs": [],
   "source": [
    "            else:\n",
    "                cGate = RYGate(2 * arccos(sqrt(prob))).control(i)"
   ]
  },
  {
   "cell_type": "markdown",
   "metadata": {},
   "source": [
    "We know that we need to use the qubits indexed by $[0, 1, ..., i - 1]$ as control qubits, and the $n^{th}$ one as the target - but before we can apply the gate we need to perform a few bit flips to make sure that the $n^{th}$ qubit is rotated only when the control qubits are in the state $|i\\rangle$. We can figure out which qubits to flip using this function:"
   ]
  },
  {
   "cell_type": "code",
   "execution_count": 6,
   "metadata": {},
   "outputs": [],
   "source": [
    "def getFlipList(i, j, numQubits):\n",
    "    \"\"\"\n",
    "    Given the current level of desired level of discretization, the\n",
    "    current level of discretization i and a region number j,\n",
    "    returns the binary bit string associated with j in the form of\n",
    "    a list of bits to be flipped.\n",
    "    \"\"\"\n",
    "    binString = str(bin(j))[2:]\n",
    "    binString = (\"0\" * (numQubits - len(binString))) + binString\n",
    "    bitFlips = []\n",
    "\n",
    "    for k in range(numQubits - i, numQubits):\n",
    "        if binString[k] == '0':\n",
    "            bitFlips.append(3 * numQubits - 3 - k - i)\n",
    "\n",
    "    return bitFlips"
   ]
  },
  {
   "cell_type": "markdown",
   "metadata": {},
   "source": [
    "Here the variable j represents the region number, which we convert to binary, and then flip qubits so that the resulting binary string is all ones. After finding out which qubits we need to flip, we can create a controlled gate and append it to the quantum circuit back in $encodeDist$:"
   ]
  },
  {
   "cell_type": "code",
   "execution_count": null,
   "metadata": {},
   "outputs": [],
   "source": [
    "                for k in listOfFlips:\n",
    "                    qc.x(a[k])\n",
    "\n",
    "                qubitsUsed = [a[k] for k in\n",
    "                    range(2 * numQubits - 2 - i, 2 * numQubits - 2)]\n",
    "\n",
    "                qubitsUsed.append(a[2 * numQubits - 3 - i])\n",
    "                qc.append(cGate, qubitsUsed)\n",
    "\n",
    "                for k in listOfFlips:\n",
    "                    qc.x(a[k])"
   ]
  },
  {
   "cell_type": "markdown",
   "metadata": {},
   "source": [
    "All that's left is to return the quantum circuit:"
   ]
  },
  {
   "cell_type": "code",
   "execution_count": null,
   "metadata": {},
   "outputs": [],
   "source": [
    "    return qc, a, c"
   ]
  },
  {
   "cell_type": "markdown",
   "metadata": {},
   "source": [
    "Here's the entire function, so that we can run it in the notebook:"
   ]
  },
  {
   "cell_type": "code",
   "execution_count": 7,
   "metadata": {},
   "outputs": [],
   "source": [
    "def encodeDist(dist, regBounds):\n",
    "    \"\"\"\n",
    "    Discretize the distribution dist into multiple regions with boundaries\n",
    "    given by regBounds, and store the associated quantum superposition\n",
    "    state in a new quantum register reg. Please make sure the number of \n",
    "    regions is a power of 2, i.e. len(regBounds) = (2 ** n) + 1.\n",
    "\n",
    "    Additionally, the number of regions is limited to a maximum of\n",
    "    2^(n // 2 + 1), where n is the number of qubits available in the backend\n",
    "    being used - this is due to the requirement of (n - 2) ancilla qubits in\n",
    "    order to perform (n - 1) control operations with minimal possible depth.\n",
    "\n",
    "    Returns a new quantum circuit containing the instructions and registers\n",
    "    needed to create the superposition state, along with the size of the\n",
    "    quantum register.\n",
    "    \"\"\"    \n",
    "    numQubits = int(log2(len(regBounds) - 1))\n",
    "\n",
    "    a = QuantumRegister(2 * numQubits - 2)\n",
    "    c = ClassicalRegister(numQubits)\n",
    "    qc = QuantumCircuit(a, c)\n",
    "\n",
    "    for i in range(numQubits):\n",
    "        numRegions = int(2 ** (i + 1))\n",
    "\n",
    "        for j in range(numRegions // 2):\n",
    "            prob = computeRegionProbability(dist, regBounds, numRegions, j)\n",
    "\n",
    "            if not i:\n",
    "                qc.ry(2 * arccos(sqrt(prob)), a[2 * numQubits - 3])\n",
    "            else:\n",
    "                cGate = RYGate(2 * arccos(sqrt(prob))).control(i)\n",
    "                listOfFlips = getFlipList(i, j, numQubits)\n",
    "\n",
    "                for k in listOfFlips:\n",
    "                    qc.x(a[k])\n",
    "\n",
    "                qubitsUsed = [a[k] for k in\n",
    "                    range(2 * numQubits - 2 - i, 2 * numQubits - 2)]\n",
    "\n",
    "                qubitsUsed.append(a[2 * numQubits - 3 - i])\n",
    "                qc.append(cGate, qubitsUsed)\n",
    "\n",
    "                for k in listOfFlips:\n",
    "                    qc.x(a[k])\n",
    "\n",
    "    return qc, a, c"
   ]
  },
  {
   "cell_type": "markdown",
   "metadata": {},
   "source": [
    "Finally, we can call our function, and compare the results with those from a classical computer - we also need a helper function that pads bit strings for us, so that we can plot the classical results on the same axis as the quantum ones:"
   ]
  },
  {
   "cell_type": "code",
   "execution_count": 8,
   "metadata": {},
   "outputs": [
    {
     "data": {
      "image/png": "[encoded data removed]",
      "text/plain": [
       "<Figure size 1152x648 with 1 Axes>"
      ]
     },
     "metadata": {
      "needs_background": "light"
     },
     "output_type": "display_data"
    }
   ],
   "source": [
    "def pad(x, numQubits):\n",
    "    \"\"\"\n",
    "    Utility function that returns a left padded version of the bit string\n",
    "    passed.\n",
    "    \"\"\"\n",
    "    string = str(x)[2:]\n",
    "    string = ('0' * (numQubits - len(string))) + string\n",
    "    return string\n",
    "\n",
    "regBounds = [i for i in range(-16, 17)]\n",
    "qc, a, c = encodeDist(distribution, regBounds)\n",
    "numQubits = (qc.num_qubits + 2) // 2\n",
    "\n",
    "for i in range(numQubits - 2, 2 * numQubits - 2):\n",
    "    qc.measure(a[i], c[i - (numQubits - 2)])\n",
    "\n",
    "backend = Aer.get_backend('qasm_simulator')\n",
    "shots = 100000\n",
    "job = execute(qc, backend=backend, shots=shots)\n",
    "results = job.result().get_counts()\n",
    "resultsX = []\n",
    "resultsY = []\n",
    "\n",
    "for i in [pad(bin(x), numQubits) for x in range(2 ** (numQubits))]:\n",
    "    resultsX.append(i)\n",
    "    if i in results.keys():\n",
    "        resultsY.append(results[i])\n",
    "    else:\n",
    "        resultsY.append(0)\n",
    "\n",
    "truthDisc = [integrate(distribution, regBounds[i], regBounds[i + 1]) * shots for i in range(\n",
    "    len(regBounds) - 1)]\n",
    "\n",
    "plt.figure(figsize=[16, 9])\n",
    "plt.plot(resultsX, resultsY)\n",
    "plt.plot(resultsX, truthDisc, '--')\n",
    "plt.legend(['quantum estimate', 'classical estimate'])\n",
    "plt.show()"
   ]
  },
  {
   "cell_type": "markdown",
   "metadata": {},
   "source": [
    "Let's take a look at the quantum circuit:"
   ]
  },
  {
   "cell_type": "code",
   "execution_count": null,
   "metadata": {},
   "outputs": [],
   "source": [
    "circuit_drawer(qc, output='latex')"
   ]
  },
  {
   "cell_type": "markdown",
   "metadata": {},
   "source": [
    "#### Things to do next\n",
    "Looks like we're done - awesome!\n",
    "\n",
    "Taking all the functions from this notebook and pasting them into a python file will give you a working copy of this program, provided you have all the dependencies installed - if you want a regular python file instead, you can get a copy [here](https://github.com/SashwatAnagolum/DoNew/blob/master/loadProbDist/loadProbDist.py).\n",
    "\n",
    "A possible next step after getting the hang of encoding distributions is to figure out ways to process the quantum state further, leading to purely quantum transformed versions of the distribution.\n",
    "\n",
    "Let me know if you figure out any other ways we can work with the quantum state we get using this circuit, or if you have any other questions - you can reach me at [sashwat.anagolum@gmail.com](mailto:sashwat.anagolum@gmail.com)"
   ]
  }
 ],
 "metadata": {
  "kernelspec": {
   "display_name": "Python 3",
   "language": "python",
   "name": "python3"
  },
  "language_info": {
   "codemirror_mode": {
    "name": "ipython",
    "version": 3
   },
   "file_extension": ".py",
   "mimetype": "text/x-python",
   "name": "python",
   "nbconvert_exporter": "python",
   "pygments_lexer": "ipython3",
   "version": "3.6.6"
  }
 },
 "nbformat": 4,
 "nbformat_minor": 4
}
